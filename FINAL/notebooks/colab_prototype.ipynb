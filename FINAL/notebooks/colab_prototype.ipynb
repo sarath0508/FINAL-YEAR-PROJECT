{
  "cells": [
    {
      "cell_type": "markdown",
      "metadata": {},
      "source": [
        "# 🧠 Multilingual Mental Health Chatbot (Colab Prototype)\n",
        "\n",
        "Free-first setup: install deps, load models, quick test.\n"
      ]
    },
    {
      "cell_type": "code",
      "execution_count": null,
      "metadata": {},
      "outputs": [],
      "source": [
        "!pip -q install transformers datasets openai-whisper TTS emoji ffmpeg-python soundfile pydub\n",
        "import torch, transformers, emoji\n",
        "from transformers import pipeline, AutoTokenizer, AutoModelForSeq2SeqLM\n",
        "\n",
        "# Sentiment\n",
        "sentiment = pipeline('sentiment-analysis', model='cardiffnlp/twitter-xlm-roberta-base-sentiment')\n",
        "\n",
        "# Empathy generator\n",
        "tok = AutoTokenizer.from_pretrained('google/flan-t5-base')\n",
        "model = AutoModelForSeq2SeqLM.from_pretrained('google/flan-t5-base')\n",
        "\n",
        "def demo(user_text: str) -> str:\n",
        "    s = sentiment(user_text)[0]['label']\n",
        "    prompt = f\"Respond empathetically to: {user_text}. Detected emotion: {s}.\"\n",
        "    x = tok(prompt, return_tensors='pt')\n",
        "    y = model.generate(**x, max_new_tokens=60)\n",
        "    r = tok.decode(y[0], skip_special_tokens=True)\n",
        "    avatar = '😢' if 'neg' in s.lower() else ('😊' if 'pos' in s.lower() else '🤔')\n",
        "    return avatar + ' ' + r\n",
        "\n",
        "print(demo('I feel lonely and anxious.'))\n"
      ]
    }
  ],
  "metadata": {
    "language_info": {
      "name": "python"
    }
  },
  "nbformat": 4,
  "nbformat_minor": 2
}
